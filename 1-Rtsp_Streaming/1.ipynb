{
 "cells": [
  {
   "cell_type": "code",
   "execution_count": 7,
   "id": "39764107",
   "metadata": {
    "ExecuteTime": {
     "end_time": "2023-12-19T23:19:57.552257Z",
     "start_time": "2023-12-19T23:19:57.533817Z"
    }
   },
   "outputs": [],
   "source": [
    "import warnings\n",
    "warnings.filterwarnings(\"ignore\")\n",
    "\n",
    "import cv2\n",
    "import os"
   ]
  },
  {
   "cell_type": "code",
   "execution_count": 12,
   "id": "50aeec3c",
   "metadata": {
    "ExecuteTime": {
     "end_time": "2023-12-19T23:23:46.482641Z",
     "start_time": "2023-12-19T23:23:46.468448Z"
    }
   },
   "outputs": [],
   "source": [
    "os.environ[\"OPENCV_FFMPEG_CAPTURE_OPTIONS\"] = \"rtsp_transport;udp\""
   ]
  },
  {
   "cell_type": "code",
   "execution_count": 13,
   "id": "1fff6304",
   "metadata": {
    "ExecuteTime": {
     "end_time": "2023-12-19T23:24:21.341039Z",
     "start_time": "2023-12-19T23:23:51.291463Z"
    }
   },
   "outputs": [
    {
     "name": "stdout",
     "output_type": "stream",
     "text": [
      "RTSP bağlantısı açılamadı\n",
      "Okunamadı.\n"
     ]
    }
   ],
   "source": [
    "def capture_frames(rtsp_url, output_directory, max_frames=1000):\n",
    "    \n",
    "    cap = cv2.VideoCapture(rtsp_url, cv2.CAP_FFMPEG)\n",
    "    if not cap.isOpened(): print(\"RTSP bağlantısı açılamadı\")\n",
    "    if not os.path.exists(output_directory): os.makedirs(output_directory)\n",
    "    frame_count = 0\n",
    "\n",
    "    while frame_count < max_frames:\n",
    "\n",
    "        ret, frame = cap.read()\n",
    "        if not ret:\n",
    "            print(\"Okunamadı.\")\n",
    "            break\n",
    "\n",
    "        frame_filename = os.path.join(output_directory, f\"frame_{frame_count}.jpg\")\n",
    "        cv2.imwrite(frame_filename, frame)\n",
    "        frame_count += 1\n",
    "        \n",
    "    cap.release()\n",
    "\n",
    "capture_frames(\"rtsp://rtspstream.com/ball\", \"Frames\")"
   ]
  },
  {
   "cell_type": "code",
   "execution_count": null,
   "id": "9e9c15b4",
   "metadata": {},
   "outputs": [],
   "source": []
  }
 ],
 "metadata": {
  "kernelspec": {
   "display_name": "Python 3 (ipykernel)",
   "language": "python",
   "name": "python3"
  },
  "language_info": {
   "codemirror_mode": {
    "name": "ipython",
    "version": 3
   },
   "file_extension": ".py",
   "mimetype": "text/x-python",
   "name": "python",
   "nbconvert_exporter": "python",
   "pygments_lexer": "ipython3",
   "version": "3.10.9"
  },
  "toc": {
   "base_numbering": 1,
   "nav_menu": {},
   "number_sections": true,
   "sideBar": true,
   "skip_h1_title": false,
   "title_cell": "Table of Contents",
   "title_sidebar": "Contents",
   "toc_cell": false,
   "toc_position": {},
   "toc_section_display": true,
   "toc_window_display": false
  },
  "varInspector": {
   "cols": {
    "lenName": 16,
    "lenType": 16,
    "lenVar": 40
   },
   "kernels_config": {
    "python": {
     "delete_cmd_postfix": "",
     "delete_cmd_prefix": "del ",
     "library": "var_list.py",
     "varRefreshCmd": "print(var_dic_list())"
    },
    "r": {
     "delete_cmd_postfix": ") ",
     "delete_cmd_prefix": "rm(",
     "library": "var_list.r",
     "varRefreshCmd": "cat(var_dic_list()) "
    }
   },
   "types_to_exclude": [
    "module",
    "function",
    "builtin_function_or_method",
    "instance",
    "_Feature"
   ],
   "window_display": false
  }
 },
 "nbformat": 4,
 "nbformat_minor": 5
}
